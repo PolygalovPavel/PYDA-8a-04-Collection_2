{
 "cells": [
  {
   "cell_type": "markdown",
   "metadata": {},
   "source": [
    "**Задание 1**. Дан список с визитами по городам и странам. \n",
    "Напишите код, который возвращает отфильтрованный список geo_logs, содержащий только визиты из России."
   ]
  },
  {
   "cell_type": "code",
   "execution_count": null,
   "metadata": {},
   "outputs": [],
   "source": [
    "geo_logs = [\n",
    "    {'visit1': ['Москва', 'Россия']},\n",
    "    {'visit2': ['Дели', 'Индия']},\n",
    "    {'visit3': ['Владимир', 'Россия']},\n",
    "    {'visit4': ['Лиссабон', 'Португалия']},\n",
    "    {'visit5': ['Париж', 'Франция']},\n",
    "    {'visit6': ['Лиссабон', 'Португалия']},\n",
    "    {'visit7': ['Тула', 'Россия']},\n",
    "    {'visit8': ['Тула', 'Россия']},\n",
    "    {'visit9': ['Курск', 'Россия']},\n",
    "    {'visit10': ['Архангельск', 'Россия']}\n",
    "]"
   ]
  },
  {
   "cell_type": "code",
   "execution_count": null,
   "metadata": {},
   "outputs": [],
   "source": [
    "new_geo_logs = []\n",
    "for visit_list in geo_logs:\n",
    "    for country in visit_list:\n",
    "        if visit_list[country][1].lower() in ('россия'):\n",
    "            #new_geo_logs.append({country:[visit_list[country][0], visit_list[country][1]]})\n",
    "            new_geo_logs.append(visit_list)\n",
    "print(new_geo_logs)\n",
    "# оставил туже структуру, но отфильтровал по заданию"
   ]
  },
  {
   "cell_type": "markdown",
   "metadata": {},
   "source": [
    "**Задание 2**. Выведите на экран все уникальные гео-ID из значений словаря ids. Т. е. список вида [213, 15, 54, 119, 98, 35]"
   ]
  },
  {
   "cell_type": "code",
   "execution_count": null,
   "metadata": {},
   "outputs": [],
   "source": [
    "ids = {'user1': [213, 213, 213, 15, 213], \n",
    "       'user2': [54, 54, 119, 119, 119], \n",
    "       'user3': [213, 98, 98, 35]}"
   ]
  },
  {
   "cell_type": "code",
   "execution_count": null,
   "metadata": {},
   "outputs": [],
   "source": [
    "list_ids = []\n",
    "for temp_users in ids:\n",
    "    for temp_volues in ids[temp_users]:\n",
    "        if temp_volues not in list_ids:\n",
    "            list_ids.append(temp_volues)\n",
    "print(list_ids)\n",
    "#Скорее всего есть функция, которая оставляет только уникальные значения в списке, но не нашел("
   ]
  },
  {
   "cell_type": "markdown",
   "metadata": {},
   "source": [
    "**Задание 3**. Дан список поисковых запросов. Получить распределение количества слов в них. \n",
    "Т. е. поисковых запросов из одного - слова 5%, из двух - 7%, из трех - 3% и т.д."
   ]
  },
  {
   "cell_type": "code",
   "execution_count": null,
   "metadata": {},
   "outputs": [],
   "source": [
    "queries = [\n",
    "    'смотреть сериалы онлайн',\n",
    "    'новости спорта',\n",
    "    'афиша кино',\n",
    "    'курс доллара',\n",
    "    'сериалы этим летом',\n",
    "    'курс по питону',\n",
    "    'сериалы про спорт',\n",
    "]"
   ]
  },
  {
   "cell_type": "code",
   "execution_count": null,
   "metadata": {},
   "outputs": [],
   "source": [
    "dict_count = {}\n",
    "all_count = 0\n",
    "for count_words in queries:\n",
    "    all_count += 1\n",
    "    if len(count_words.split(' ')) not in dict_count.keys():\n",
    "        dict_count[len(count_words.split(' '))] = 1\n",
    "    else:\n",
    "        dict_count[len(count_words.split(' '))] += 1\n",
    "print(\"Поисковых запросах состоящих из:\")\n",
    "for percent_count in dict_count:\n",
    "    print(f\"- {percent_count} слов(а): {round(dict_count[percent_count]/all_count*100,1)}%\")"
   ]
  },
  {
   "cell_type": "markdown",
   "metadata": {},
   "source": [
    "**Задание 4**. Дана статистика рекламных каналов по объемам продаж. Напишите скрипт, который возвращает название канала с максимальным объемом.\n",
    "Т. е. в данном примере скрипт должен возвращать 'yandex'."
   ]
  },
  {
   "cell_type": "code",
   "execution_count": null,
   "metadata": {},
   "outputs": [],
   "source": [
    "stats = {'facebook': 55, 'yandex': 120, 'vk': 115, 'google': 99, 'email': 42, 'ok': 98}"
   ]
  },
  {
   "cell_type": "code",
   "execution_count": null,
   "metadata": {},
   "outputs": [],
   "source": [
    "max_volue = ['a', 0]\n",
    "for temp_volue in stats:\n",
    "    if max_volue[1] < stats[temp_volue]:\n",
    "        max_volue[0] = temp_volue\n",
    "        max_volue[1] = stats[temp_volue]\n",
    "print(f'Рекламный канал \"{max_volue[0].capitalize()}\" имеет максимальной объем продаж = {max_volue[1]}')"
   ]
  },
  {
   "cell_type": "markdown",
   "metadata": {},
   "source": [
    "**Задание 5**. Напишите код для преобразования произвольного списка вида ['2018-01-01', 'yandex', 'cpc', 100] (он может быть любой длины) в словарь {'2018-01-01': {'yandex': {'cpc': 100}}}"
   ]
  },
  {
   "cell_type": "code",
   "execution_count": null,
   "metadata": {},
   "outputs": [],
   "source": [
    "#temp_list = ['2018-01-01', 'yandex', 'cpc', 100] \n",
    "temp_list = input(\"Введите набор данных через запятую: \")\n",
    "temp_list = temp_list.split(',')\n",
    "temp_int = len(temp_list)\n",
    "new_dict = {}\n",
    "for for_int in range(temp_int-1):\n",
    "    if for_int == 0:\n",
    "        new_dict = {temp_list[temp_int-for_int-2] : temp_list[temp_int-for_int-1]}\n",
    "    else:\n",
    "        new_dict = {temp_list[temp_int-for_int-2] : new_dict}\n",
    "print(new_dict)"
   ]
  }
 ],
 "metadata": {
  "kernelspec": {
   "display_name": "Python 3",
   "language": "python",
   "name": "python3"
  },
  "language_info": {
   "codemirror_mode": {
    "name": "ipython",
    "version": 3
   },
   "file_extension": ".py",
   "mimetype": "text/x-python",
   "name": "python",
   "nbconvert_exporter": "python",
   "pygments_lexer": "ipython3",
   "version": "3.7.6"
  }
 },
 "nbformat": 4,
 "nbformat_minor": 2
}
