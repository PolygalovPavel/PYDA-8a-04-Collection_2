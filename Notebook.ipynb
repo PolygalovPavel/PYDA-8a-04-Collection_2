{
 "cells": [
  {
   "cell_type": "code",
   "execution_count": 7,
   "metadata": {},
   "outputs": [
    {
     "name": "stdout",
     "output_type": "stream",
     "text": [
      "{'vk': {'revenue': 103, 'cost': 98}, 'yandex': {'revenue': 179, 'cost': 153}, 'facebook': {'revenue': 103, 'cost': 110}, 'adwords': {'revenue': 35, 'cost': 34}, 'twitter': {'revenue': 11, 'cost': 24}}\n"
     ]
    }
   ],
   "source": [
    "results = { \n",
    "    'vk': {'revenue': 103, 'cost': 98}, \n",
    "    'yandex': {'revenue': 179, 'cost': 153}, \n",
    "    'facebook': {'revenue': 103, 'cost': 110}, \n",
    "    'adwords': {'revenue': 35, 'cost': 34}, \n",
    "    'twitter': {'revenue': 11, 'cost': 24}, \n",
    "}\n",
    "print(results)"
   ]
  },
  {
   "cell_type": "code",
   "execution_count": 28,
   "metadata": {},
   "outputs": [
    {
     "name": "stdout",
     "output_type": "stream",
     "text": [
      "{'revenue': 103, 'cost': 98, 'ROI': 5.1}\n",
      "{'revenue': 179, 'cost': 153, 'ROI': 16.99}\n",
      "{'revenue': 103, 'cost': 110, 'ROI': -6.36}\n",
      "{'revenue': 35, 'cost': 34, 'ROI': 2.94}\n",
      "{'revenue': 11, 'cost': 24, 'ROI': -54.17}\n"
     ]
    }
   ],
   "source": [
    "for economics in results.values():\n",
    "    economics['ROI'] = round((economics['revenue']/economics['cost']-1)*100, 2)\n",
    "    print(economics)"
   ]
  },
  {
   "cell_type": "code",
   "execution_count": 10,
   "metadata": {},
   "outputs": [],
   "source": [
    "cook_book = { \n",
    "    'салат': [ \n",
    "        {'ingridient_name': 'сыр', 'quantity': 50, 'measure': 'гр'}, \n",
    "        {'ingridient_name': 'томаты', 'quantity': 20, 'measure': 'гр'}, \n",
    "        {'ingridient_name': 'огурцы', 'quantity': 20, 'measure': 'гр'}, \n",
    "        {'ingridient_name': 'маслины', 'quantity': 10, 'measure': 'гр'}, \n",
    "        {'ingridient_name': 'оливковое масло', 'quantity': 20, 'measure': 'мл'}, \n",
    "        {'ingridient_name': 'салат', 'quantity': 10, 'measure': 'гр'}, \n",
    "        {'ingridient_name': 'перец', 'quantity': 20, 'measure': 'гр'} \n",
    "    ], \n",
    "    'пицца': [ \n",
    "        {'ingridient_name': 'сыр', 'quantity': 20, 'measure': 'гр'}, \n",
    "        {'ingridient_name': 'колбаса', 'quantity': 30, 'measure': 'гр'}, \n",
    "        {'ingridient_name': 'бекон', 'quantity': 30, 'measure': 'гр'}, \n",
    "        {'ingridient_name': 'оливки', 'quantity': 10, 'measure': 'гр'}, \n",
    "        {'ingridient_name': 'томаты', 'quantity': 20, 'measure': 'гр'}, \n",
    "        {'ingridient_name': 'тесто', 'quantity': 100, 'measure': 'гр'}, \n",
    "    ],\n",
    "    'лимонад': [ \n",
    "        {'ingridient_name': 'лимон', 'quantity': 1, 'measure': 'шт'}, \n",
    "        {'ingridient_name': 'вода', 'quantity': 200, 'measure': 'мл'}, \n",
    "        {'ingridient_name': 'сахар', 'quantity': 10, 'measure': 'гр'}, \n",
    "        {'ingridient_name': 'лайм', 'quantity': 20, 'measure': 'гр'}, \n",
    "    ] \n",
    "}"
   ]
  },
  {
   "cell_type": "code",
   "execution_count": 35,
   "metadata": {},
   "outputs": [
    {
     "name": "stdout",
     "output_type": "stream",
     "text": [
      "Введите количество персон: 10\n",
      "сыр 700гр\n",
      "томаты 400гр\n",
      "огурцы 200гр\n",
      "маслины 100гр\n",
      "оливковое масло 200мл\n",
      "салат 100гр\n",
      "перец 200гр\n",
      "колбаса 300гр\n",
      "бекон 300гр\n",
      "оливки 100гр\n",
      "тесто 1000гр\n",
      "лимон 10шт\n",
      "вода 2000мл\n",
      "сахар 100гр\n",
      "лайм 200гр\n"
     ]
    }
   ],
   "source": [
    "person = int(input(\"Введите количество персон: \"))\n",
    "#person = 5\n",
    "shop_list = {}\n",
    "\n",
    "for dish in cook_book:\n",
    "    #print(dish)\n",
    "    for ingridient in cook_book[dish]:\n",
    "        #print(ingridient)\n",
    "        new_shop_list_item = dict(ingridient)\n",
    "        new_shop_list_item['quantity'] *= person\n",
    "        if new_shop_list_item['ingridient_name'] not in shop_list:\n",
    "            shop_list[new_shop_list_item['ingridient_name']] = new_shop_list_item\n",
    "        else:\n",
    "            shop_list[new_shop_list_item['ingridient_name']]['quantity'] += new_shop_list_item['quantity']\n",
    "for shop_list_item in shop_list.values():\n",
    "    print(f\"{shop_list_item['ingridient_name']} {shop_list_item['quantity']}{shop_list_item['measure']}\")\n"
   ]
  },
  {
   "cell_type": "code",
   "execution_count": null,
   "metadata": {},
   "outputs": [],
   "source": []
  },
  {
   "cell_type": "code",
   "execution_count": null,
   "metadata": {},
   "outputs": [],
   "source": []
  }
 ],
 "metadata": {
  "kernelspec": {
   "display_name": "Python 3",
   "language": "python",
   "name": "python3"
  },
  "language_info": {
   "codemirror_mode": {
    "name": "ipython",
    "version": 3
   },
   "file_extension": ".py",
   "mimetype": "text/x-python",
   "name": "python",
   "nbconvert_exporter": "python",
   "pygments_lexer": "ipython3",
   "version": "3.7.6"
  }
 },
 "nbformat": 4,
 "nbformat_minor": 2
}
